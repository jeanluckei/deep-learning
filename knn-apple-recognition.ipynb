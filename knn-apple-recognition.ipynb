{
  "nbformat": 4,
  "nbformat_minor": 0,
  "metadata": {
    "colab": {
      "name": "Untitled2.ipynb",
      "provenance": [],
      "authorship_tag": "ABX9TyMSogJmgUs+qKwAcjaZR+YP",
      "include_colab_link": true
    },
    "kernelspec": {
      "name": "python3",
      "display_name": "Python 3"
    },
    "language_info": {
      "name": "python"
    }
  },
  "cells": [
    {
      "cell_type": "markdown",
      "metadata": {
        "id": "view-in-github",
        "colab_type": "text"
      },
      "source": [
        "<a href=\"https://colab.research.google.com/github/jeanluckei/deep-learning/blob/main/knn-apple-recognition.ipynb\" target=\"_parent\"><img src=\"https://colab.research.google.com/assets/colab-badge.svg\" alt=\"Open In Colab\"/></a>"
      ]
    },
    {
      "cell_type": "code",
      "metadata": {
        "id": "sOiEFuZeHXAN"
      },
      "source": [
        "# !wget https://github.com/jeanluckei/deep-learning/raw/main/fruits-360.zip\n",
        "!unzip fruits-420.zip"
      ],
      "execution_count": null,
      "outputs": []
    },
    {
      "cell_type": "code",
      "metadata": {
        "id": "Gsu6NDnA5S3M"
      },
      "source": [
        "##Imports e método para processamento das imagens e resize\n",
        "\n",
        "from sklearn.neighbors import KNeighborsClassifier\n",
        "from sklearn.preprocessing import LabelEncoder\n",
        "from sklearn.model_selection import train_test_split\n",
        "from sklearn.metrics import classification_report\n",
        "from imutils import paths\n",
        "import numpy as np\n",
        "import cv2\n",
        "import os\n",
        "import argparse\n",
        "\n",
        "def load(imagePaths, verbose=-1):\n",
        "  data = []\n",
        "  labels = []\n",
        "  for (i, imagePath) in enumerate(imagePaths):\n",
        "    label = imagePath.split(os.path.sep)[-2]\n",
        "    image = cv2.imread(imagePath)\n",
        "    image = cv2.resize(image, (32, 32), interpolation=cv2.INTER_AREA)\n",
        "    data.append(image)\n",
        "    labels.append(label)\n",
        "  return (np.array(data), np.array(labels))"
      ],
      "execution_count": 124,
      "outputs": []
    },
    {
      "cell_type": "code",
      "metadata": {
        "colab": {
          "base_uri": "https://localhost:8080/"
        },
        "id": "5kmeSw5h6A-Z",
        "outputId": "87043aec-fa85-4268-8069-f51d93c1474a"
      },
      "source": [
        "print(\"Carregando as imagens...\")\n",
        "imagePaths = list(paths.list_images('fruits-420/Training'))\n",
        "(data, labels) = load(imagePaths, verbose=500)\n",
        "data = data.reshape((data.shape[0], 3072))\n",
        "print(\"Tamanho total: {:.1f}MB\".format(data.nbytes / (1024 * 1024.0)))"
      ],
      "execution_count": 125,
      "outputs": [
        {
          "output_type": "stream",
          "name": "stdout",
          "text": [
            "Carregando as imagens...\n",
            "Tamanho total: 16.0MB\n"
          ]
        }
      ]
    },
    {
      "cell_type": "code",
      "metadata": {
        "id": "99GXH9ueFk1C"
      },
      "source": [
        "# Transformar os labels (nomes das pastas) em Integer\n",
        "le = LabelEncoder()\n",
        "labelsEncoded = le.fit_transform(labels)\n",
        "\n",
        "# Separando os dados de treino e teste em 80% x 20%\n",
        "# Random state 42 pois é a resposta para todas as perguntas\n",
        "(trainX, testX, trainY, testY) = train_test_split(data, labelsEncoded,\ttest_size=0.2, random_state=42)"
      ],
      "execution_count": 126,
      "outputs": []
    },
    {
      "cell_type": "code",
      "metadata": {
        "colab": {
          "base_uri": "https://localhost:8080/",
          "height": 299
        },
        "id": "2u2NvvE7F-iv",
        "outputId": "1cbbb55d-683b-4551-e45c-4d0a7c41aaca"
      },
      "source": [
        "print(\"Gerando gráfico de acurácia x K neighbors\")\n",
        "lix = []\n",
        "liy = []\n",
        "index=0\n",
        "acc=0\n",
        "for k in range(1, 100):\n",
        "    neigh = KNeighborsClassifier(n_neighbors=k)\n",
        "    neigh.fit(trainX, trainY)\n",
        "    liy.append(neigh.score(testX, testY))\n",
        "    if liy[k-1]>=acc:\n",
        "        acc=liy[k-1]\n",
        "        index=k-1\n",
        "    lix.append(k)\n",
        "\n",
        "plt.plot(lix, liy)\n",
        "plt.show()\n",
        "print(\"Acurácia máxima atingida em k=\"+str(index+1)+\" com valor de \"+str(acc))"
      ],
      "execution_count": 86,
      "outputs": [
        {
          "output_type": "stream",
          "name": "stdout",
          "text": [
            "Gerando gráfico de acurácia x K neighbors\n"
          ]
        },
        {
          "output_type": "display_data",
          "data": {
            "image/png": "[encoded data removed]",
            "text/plain": [
              "<Figure size 432x288 with 1 Axes>"
            ]
          },
          "metadata": {
            "needs_background": "light"
          }
        },
        {
          "output_type": "stream",
          "name": "stdout",
          "text": [
            "Acurácia máxima atingida em k=18 com valor de 1.0\n"
          ]
        }
      ]
    },
    {
      "cell_type": "code",
      "metadata": {
        "colab": {
          "base_uri": "https://localhost:8080/"
        },
        "id": "OSMPwhKUFoYh",
        "outputId": "e9af874d-cce6-49f9-9a7f-a972b130a83f"
      },
      "source": [
        "print(\"Como encontrado acima, 18 é o maior valor sem perder acurácia\")\n",
        "model = KNeighborsClassifier(n_neighbors=18,\tn_jobs=-1)\n",
        "model.fit(trainX, trainY)\n",
        "print(classification_report(testY, model.predict(testX), target_names=le.classes_))"
      ],
      "execution_count": 127,
      "outputs": [
        {
          "output_type": "stream",
          "name": "stdout",
          "text": [
            "Como encontrado acima, 18 é o maior valor sem perder acurácia\n",
            "                     precision    recall  f1-score   support\n",
            "\n",
            "     Apple Braeburn       1.00      1.00      1.00        93\n",
            " Apple Crimson Snow       1.00      1.00      1.00        79\n",
            "     Apple Golden 1       1.00      1.00      1.00        89\n",
            "     Apple Golden 2       1.00      1.00      1.00        86\n",
            "     Apple Golden 3       1.00      1.00      1.00        91\n",
            " Apple Granny Smith       1.00      1.00      1.00        73\n",
            "    Apple Pink Lady       1.00      1.00      1.00        90\n",
            "        Apple Red 1       1.00      1.00      1.00        72\n",
            "        Apple Red 2       1.00      1.00      1.00        90\n",
            "        Apple Red 3       1.00      1.00      1.00        80\n",
            "Apple Red Delicious       1.00      1.00      1.00        80\n",
            " Apple Red Yellow 1       1.00      1.00      1.00        81\n",
            " Apple Red Yellow 2       1.00      1.00      1.00        88\n",
            "\n",
            "           accuracy                           1.00      1092\n",
            "          macro avg       1.00      1.00      1.00      1092\n",
            "       weighted avg       1.00      1.00      1.00      1092\n",
            "\n"
          ]
        }
      ]
    },
    {
      "cell_type": "code",
      "metadata": {
        "colab": {
          "base_uri": "https://localhost:8080/"
        },
        "id": "EOSohxs3HcOb",
        "outputId": "8ca21503-8956-4432-910b-15cd0f6b49ce"
      },
      "source": [
        "print(\"Predizendo imagem teste\")\n",
        "\n",
        "labels = sorted(list(dict.fromkeys(labels)))\n",
        "\n",
        "imagePath = \"fruits-420/Test/Apple Braeburn/321_100.jpg\"\n",
        "data = []\n",
        "image = cv2.imread(imagePath)\n",
        "image = sp.preprocess(image)\n",
        "data.append(image)\n",
        "data = np.array(data)\n",
        "data = data.reshape((data.shape[0], 3072))\n",
        "print(\"[INFO] features matrix: {:.1f}MB\".format(\n",
        "\tdata.nbytes / (1024 * 1024.0)))\n",
        "\n",
        "test_pred = model.predict(data)\n",
        "print(labels[int(test_pred)])"
      ],
      "execution_count": 133,
      "outputs": [
        {
          "output_type": "stream",
          "name": "stdout",
          "text": [
            "Predizendo imagem teste\n",
            "[INFO] features matrix: 0.0MB\n",
            "Apple Braeburn\n"
          ]
        }
      ]
    }
  ]
}